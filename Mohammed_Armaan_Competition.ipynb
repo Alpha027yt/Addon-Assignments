{
  "nbformat": 4,
  "nbformat_minor": 0,
  "metadata": {
    "colab": {
      "provenance": [],
      "toc_visible": true
    },
    "kernelspec": {
      "name": "python3",
      "display_name": "Python 3"
    },
    "language_info": {
      "name": "python"
    }
  },
  "cells": [
    {
      "cell_type": "code",
      "execution_count": 162,
      "metadata": {
        "colab": {
          "base_uri": "https://localhost:8080/",
          "height": 55
        },
        "id": "WsfZO-B_JqQ0",
        "outputId": "dd56497e-ef81-4eae-ebaf-3cba0cfa67f5"
      },
      "outputs": [
        {
          "output_type": "execute_result",
          "data": {
            "text/plain": [
              "'1. Write a Python function to accept a string value from the user and display the\\ncount of each character in that string. Sample input: Enter a string value:\\nassembly Sample output: a=1, s=2, e=1, m=1, b=1, l=1, y=1 '"
            ],
            "application/vnd.google.colaboratory.intrinsic+json": {
              "type": "string"
            }
          },
          "metadata": {},
          "execution_count": 162
        }
      ],
      "source": [
        "'''1. Write a Python function to accept a string value from the user and display the\n",
        "count of each character in that string. Sample input: Enter a string value:\n",
        "assembly Sample output: a=1, s=2, e=1, m=1, b=1, l=1, y=1 '''"
      ]
    },
    {
      "cell_type": "code",
      "source": [
        "def char_counts(string):\n",
        "  counts=0\n",
        "  for char in string:\n",
        "    if char in counts:\n",
        "      counts[char] +=1\n",
        "    else:\n",
        "        counts[char]=1\n",
        "    return counts"
      ],
      "metadata": {
        "id": "T2kT-yXRS734"
      },
      "execution_count": 161,
      "outputs": []
    },
    {
      "cell_type": "code",
      "source": [
        "character_value=input('Enter the string:')\n",
        "for character, count in character_counts.items():\n",
        "  print(f\"{character}={count}\")"
      ],
      "metadata": {
        "colab": {
          "base_uri": "https://localhost:8080/"
        },
        "id": "vpfZFqXmTzRz",
        "outputId": "184fbb19-b3fe-4969-8cf0-79e6340b89fd"
      },
      "execution_count": null,
      "outputs": [
        {
          "output_type": "stream",
          "name": "stdout",
          "text": [
            "Enter the string:Armaan\n",
            "A=1\n",
            "r=1\n",
            "m=1\n",
            "a=2\n",
            "n=1\n"
          ]
        }
      ]
    },
    {
      "cell_type": "code",
      "source": [
        "'''2. Write a Python function to find the maximum of three numbers Sample input:\n",
        "34,12,7 Sample output: 34'''"
      ],
      "metadata": {
        "colab": {
          "base_uri": "https://localhost:8080/",
          "height": 36
        },
        "id": "bRyrTX_uU546",
        "outputId": "11b1d9d9-8536-47ae-a4ac-207b85d0ee00"
      },
      "execution_count": 160,
      "outputs": [
        {
          "output_type": "execute_result",
          "data": {
            "text/plain": [
              "'2. Write a Python function to find the maximum of three numbers Sample input:\\n34,12,7 Sample output: 34'"
            ],
            "application/vnd.google.colaboratory.intrinsic+json": {
              "type": "string"
            }
          },
          "metadata": {},
          "execution_count": 160
        }
      ]
    },
    {
      "cell_type": "code",
      "source": [
        "def max_num(x,y,z):\n",
        "\n",
        "  if x >=y and x >=z:\n",
        "    return x\n",
        "  elif y>=x and y>=z:\n",
        "    return y\n",
        "  else:\n",
        "    return z\n"
      ],
      "metadata": {
        "id": "QfnsMJbiXEIL"
      },
      "execution_count": null,
      "outputs": []
    },
    {
      "cell_type": "code",
      "source": [
        "x=28\n",
        "y=90\n",
        "z=45\n",
        "print(max_num(x,y,z))"
      ],
      "metadata": {
        "colab": {
          "base_uri": "https://localhost:8080/"
        },
        "id": "-fMJgLOIYEvP",
        "outputId": "21e19068-e5e7-49f2-ea2d-a77f38aae202"
      },
      "execution_count": null,
      "outputs": [
        {
          "output_type": "stream",
          "name": "stdout",
          "text": [
            "90\n"
          ]
        }
      ]
    },
    {
      "cell_type": "code",
      "source": [
        "'''3. Write a Python function called exponent(base,exp) that returns an integer\n",
        "value of base raises to the power of exp. Sample input: Enter the base: 2\n",
        "Enter the exponent: 3 Sample output: 8 '''\n"
      ],
      "metadata": {
        "id": "dHcgbuOEYnOL",
        "colab": {
          "base_uri": "https://localhost:8080/",
          "height": 55
        },
        "outputId": "7cad14e2-5ac6-4ffc-d728-591187e8bb13"
      },
      "execution_count": 159,
      "outputs": [
        {
          "output_type": "execute_result",
          "data": {
            "text/plain": [
              "'3. Write a Python function called exponent(base,exp) that returns an integer\\nvalue of base raises to the power of exp. Sample input: Enter the base: 2\\nEnter the exponent: 3 Sample output: 8 '"
            ],
            "application/vnd.google.colaboratory.intrinsic+json": {
              "type": "string"
            }
          },
          "metadata": {},
          "execution_count": 159
        }
      ]
    },
    {
      "cell_type": "code",
      "source": [
        "def exponent (base,exp):\n",
        "  integer=1\n",
        "  for i in range(exp):\n",
        "      integer*=base\n",
        "  return integer"
      ],
      "metadata": {
        "id": "-m-izrc8ZXV7"
      },
      "execution_count": null,
      "outputs": []
    },
    {
      "cell_type": "code",
      "source": [
        "base=int(input('Enter the base:'))\n",
        "exp=int(input('Enter the exponent:'))\n",
        "print(exponent(base,exp))"
      ],
      "metadata": {
        "colab": {
          "base_uri": "https://localhost:8080/"
        },
        "id": "s3SVCWkUadGY",
        "outputId": "b6a19562-e8de-4d6c-bcf4-7f6e3ba1a1f4"
      },
      "execution_count": null,
      "outputs": [
        {
          "output_type": "stream",
          "name": "stdout",
          "text": [
            "Enter the base:2\n",
            "Enter the exponent:3\n",
            "8\n"
          ]
        }
      ]
    },
    {
      "cell_type": "code",
      "source": [
        "'''4. Write a Python function that takes a positive integer and returns the sum of\n",
        "the cube of all the positive integers smaller than the specified number.\n",
        "Sample input: 4 Sample output: 36. '''"
      ],
      "metadata": {
        "colab": {
          "base_uri": "https://localhost:8080/",
          "height": 53
        },
        "id": "OMVtkITKa4RX",
        "outputId": "d4f4a43a-c643-4c90-be0f-88332fd83eab"
      },
      "execution_count": null,
      "outputs": [
        {
          "output_type": "execute_result",
          "data": {
            "text/plain": [
              "'Write a Python function that takes a positive integer and returns the sum of\\nthe cube of all the positive integers smaller than the specified number.\\nSample input: 4 Sample output: 36. '"
            ],
            "application/vnd.google.colaboratory.intrinsic+json": {
              "type": "string"
            }
          },
          "metadata": {},
          "execution_count": 77
        }
      ]
    },
    {
      "cell_type": "code",
      "source": [
        "def cube(n):\n",
        "  count=0\n",
        "  for i in range(1,n):\n",
        "    count +=i**3\n",
        "  return count"
      ],
      "metadata": {
        "id": "hZ882_A9dp8S"
      },
      "execution_count": null,
      "outputs": []
    },
    {
      "cell_type": "code",
      "source": [
        "n=int(input('Enter a positive integer: '))\n",
        "print('output = ',cube(n))"
      ],
      "metadata": {
        "colab": {
          "base_uri": "https://localhost:8080/"
        },
        "id": "iHRUqbSNeNgY",
        "outputId": "3ec5ca14-0cdf-46d5-defb-64139cf71446"
      },
      "execution_count": null,
      "outputs": [
        {
          "output_type": "stream",
          "name": "stdout",
          "text": [
            "Enter a positive integer: 2\n",
            "output =  1\n"
          ]
        }
      ]
    },
    {
      "cell_type": "code",
      "source": [
        "'''5. Write a Python program which iterates from 1 to 10. For multiples of 2, print\n",
        "“Fizz” instead of the number and for the multiples of 5, print “Buzz”. For\n",
        "numbers which are multiples of both 2 and 5, print “FizzBuzz”. Sample input:\n",
        "numbers from 1 to 10 Sample output: 1 Fizz 3 Fizz Buzz Fizz 7 Fizz 9\n",
        "FizzBuzz '''"
      ],
      "metadata": {
        "id": "EZGtIaROft-7"
      },
      "execution_count": null,
      "outputs": []
    },
    {
      "cell_type": "code",
      "source": [
        "def function(i):\n",
        "  count=0\n",
        "for i in range(1, 11):\n",
        "    if i%2==0 and i%5==0:\n",
        "        print('FizzBuzz')\n",
        "    elif i%2==0:\n",
        "        print('Fizz')\n",
        "    elif i%5==0:\n",
        "        print('Buzz')\n",
        "    else:\n",
        "        print(i)"
      ],
      "metadata": {
        "colab": {
          "base_uri": "https://localhost:8080/"
        },
        "id": "3_FFJrmqgHCo",
        "outputId": "20b83c4c-41dd-40c9-86ee-40a52bebd276"
      },
      "execution_count": null,
      "outputs": [
        {
          "output_type": "stream",
          "name": "stdout",
          "text": [
            "1\n",
            "Fizz\n",
            "3\n",
            "Fizz\n",
            "Buzz\n",
            "Fizz\n",
            "7\n",
            "Fizz\n",
            "9\n",
            "FizzBuzz\n"
          ]
        }
      ]
    },
    {
      "cell_type": "code",
      "source": [
        "'''7. Write a Python function to find the sum of squares of the numbers in a list.\n",
        "Sample input: 2,1,3,1 Sample output: 15 '''"
      ],
      "metadata": {
        "colab": {
          "base_uri": "https://localhost:8080/",
          "height": 53
        },
        "id": "eHnUgqb3nuY3",
        "outputId": "1b6d9b62-8786-48d9-b533-bce1335f363c"
      },
      "execution_count": null,
      "outputs": [
        {
          "output_type": "execute_result",
          "data": {
            "text/plain": [
              "' Write a Python function to find the sum of squares of the numbers in a list.\\nSample input: 2,1,3,1 Sample output: 15 '"
            ],
            "application/vnd.google.colaboratory.intrinsic+json": {
              "type": "string"
            }
          },
          "metadata": {},
          "execution_count": 125
        }
      ]
    },
    {
      "cell_type": "code",
      "source": [
        "def sum_of_squares(numbers):\n",
        "  sum_of_squares = 0\n",
        "  for number in numbers:\n",
        "    sum_of_squares += number * number\n",
        "  return sum_of_squares\n",
        "numbers = [2, 1, 3, 1]\n",
        "result = sum_of_squares(numbers)\n",
        "print(f\"The sum of squares of the numbers in the list is: {result}\")\n"
      ],
      "metadata": {
        "colab": {
          "base_uri": "https://localhost:8080/"
        },
        "id": "4udv957dnwpC",
        "outputId": "9687ab44-4051-47b3-bbbd-0339add8ca5b"
      },
      "execution_count": 144,
      "outputs": [
        {
          "output_type": "stream",
          "name": "stdout",
          "text": [
            "The sum of squares of the numbers in the list is: 15\n"
          ]
        }
      ]
    },
    {
      "cell_type": "code",
      "source": [
        "'''9. Write a Python function to convert temperatures to and from Celsius\n",
        "Fahrenheit. [Formula: c/5=f-32/9 where c=temperature in Celsius and f=\n",
        "temperature in Fahrenheit.] Sample input: Temperature in Fahrenheit =41\n",
        "Sample output: Temperature in Celsius =5 '''"
      ],
      "metadata": {
        "colab": {
          "base_uri": "https://localhost:8080/",
          "height": 55
        },
        "id": "21L35lDNriFa",
        "outputId": "a4138ad8-be4e-4568-afb9-5321fa3fb9f1"
      },
      "execution_count": 145,
      "outputs": [
        {
          "output_type": "execute_result",
          "data": {
            "text/plain": [
              "'Write a Python function to convert temperatures to and from Celsius\\nFahrenheit. [Formula: c/5=f-32/9 where c=temperature in Celsius and f=\\ntemperature in Fahrenheit.] Sample input: Temperature in Fahrenheit =41\\nSample output: Temperature in Celsius =5 '"
            ],
            "application/vnd.google.colaboratory.intrinsic+json": {
              "type": "string"
            }
          },
          "metadata": {},
          "execution_count": 145
        }
      ]
    },
    {
      "cell_type": "code",
      "source": [
        "f=float(input(\"Enter the Fahrenheit :\"))\n",
        "c = (f * 32/59)\n",
        "print(\"The temperature in celcius:\", c)"
      ],
      "metadata": {
        "colab": {
          "base_uri": "https://localhost:8080/"
        },
        "id": "oSjrWp93rkki",
        "outputId": "92d863d8-be49-483f-b005-3204a9ef1d95"
      },
      "execution_count": 153,
      "outputs": [
        {
          "output_type": "stream",
          "name": "stdout",
          "text": [
            "Enter the Fahrenheit :120\n",
            "The temperature in celcius: 65.08474576271186\n"
          ]
        }
      ]
    },
    {
      "cell_type": "code",
      "source": [
        "'''10. Write a Python function to calculate the factorial of a number (a nonnegative\n",
        "integer). The function accepts the number as an argument. Sample input: 3\n",
        "Sample output: 6 '''"
      ],
      "metadata": {
        "colab": {
          "base_uri": "https://localhost:8080/",
          "height": 55
        },
        "id": "o7E8cz6Sr33L",
        "outputId": "9a5221c2-a01c-4d67-f048-3fa91e2a02c7"
      },
      "execution_count": 151,
      "outputs": [
        {
          "output_type": "execute_result",
          "data": {
            "text/plain": [
              "'Write a Python function to calculate the factorial of a number (a nonnegative\\ninteger). The function accepts the number as an argument. Sample input: 3\\nSample output: 6 '"
            ],
            "application/vnd.google.colaboratory.intrinsic+json": {
              "type": "string"
            }
          },
          "metadata": {},
          "execution_count": 151
        }
      ]
    },
    {
      "cell_type": "code",
      "source": [
        "def factorial(n):\n",
        "  if n == 0:\n",
        "    return 1\n",
        "  else:\n",
        "    return n * factorial(n-1)\n",
        "print(factorial(3))"
      ],
      "metadata": {
        "colab": {
          "base_uri": "https://localhost:8080/"
        },
        "id": "FfPl_00_vDnZ",
        "outputId": "f7cda632-8dd0-4799-f41f-f42044e5d836"
      },
      "execution_count": 158,
      "outputs": [
        {
          "output_type": "stream",
          "name": "stdout",
          "text": [
            "6\n"
          ]
        }
      ]
    },
    {
      "cell_type": "code",
      "source": [
        "'''6. Write a Python function to find the most frequent item in a list of numbers.\n",
        "Sample input: 2, 3, 4, 2, 5, 2 Sample output: 2 '''"
      ],
      "metadata": {
        "colab": {
          "base_uri": "https://localhost:8080/",
          "height": 36
        },
        "id": "oZ2L-4UJtCsQ",
        "outputId": "acbb1489-d99c-49a6-fd7d-c9d4eadbe6a4"
      },
      "execution_count": 163,
      "outputs": [
        {
          "output_type": "execute_result",
          "data": {
            "text/plain": [
              "'6. Write a Python function to find the most frequent item in a list of numbers.\\nSample input: 2, 3, 4, 2, 5, 2 Sample output: 2 '"
            ],
            "application/vnd.google.colaboratory.intrinsic+json": {
              "type": "string"
            }
          },
          "metadata": {},
          "execution_count": 163
        }
      ]
    },
    {
      "cell_type": "code",
      "source": [
        "def frequent_num(list1):\n",
        "\n",
        "    count_dict = dict()\n",
        "    for item in list1:\n",
        "        if item in count_dict:\n",
        "            count_dict[item] += 1\n",
        "        else:\n",
        "            count_dict[item] = 1\n",
        "    frequent_num_item = None\n",
        "    highest_count = 0\n",
        "    for item, count in count_dict.items():\n",
        "        if count > highest_count:\n",
        "            frequent_num_item = item\n",
        "            highest_count = count\n",
        "    return frequent_num_item\n"
      ],
      "metadata": {
        "id": "dNwqTzfawPtA"
      },
      "execution_count": 164,
      "outputs": []
    },
    {
      "cell_type": "code",
      "source": [
        "list1 = [2, 3, 4, 2, 5, 2]\n",
        "frequent_num_item = frequent_num(list1)\n",
        "print(f\"The most frequent item is: {frequent_num_item}\")"
      ],
      "metadata": {
        "colab": {
          "base_uri": "https://localhost:8080/"
        },
        "id": "G32DM3_vxBSI",
        "outputId": "6a7b10d1-eebc-4c7b-cc91-1dc976f92ea1"
      },
      "execution_count": 165,
      "outputs": [
        {
          "output_type": "stream",
          "name": "stdout",
          "text": [
            "The most frequent item is: 2\n"
          ]
        }
      ]
    },
    {
      "cell_type": "code",
      "source": [
        "'''8. Write a Python program using for loop that will iterate from 1 to 15. For each\n",
        "iteration, check if the current number is odd or even, and display the message\n",
        "to the screen as odd or even. Sample input: 1….15 Sample output: 1-odd 2-\n",
        "even …. 15-odd'''"
      ],
      "metadata": {
        "colab": {
          "base_uri": "https://localhost:8080/",
          "height": 55
        },
        "id": "hT4QuGBXxFJZ",
        "outputId": "7a6cdcc2-1b18-4499-9aa1-693b79b13b2f"
      },
      "execution_count": 166,
      "outputs": [
        {
          "output_type": "execute_result",
          "data": {
            "text/plain": [
              "'8. Write a Python program using for loop that will iterate from 1 to 15. For each\\niteration, check if the current number is odd or even, and display the message\\nto the screen as odd or even. Sample input: 1….15 Sample output: 1-odd 2-\\neven …. 15-odd'"
            ],
            "application/vnd.google.colaboratory.intrinsic+json": {
              "type": "string"
            }
          },
          "metadata": {},
          "execution_count": 166
        }
      ]
    },
    {
      "cell_type": "code",
      "source": [
        "for i in range(1, 16):\n",
        "  if i%2==0:\n",
        "    print(i, 'even')\n",
        "  else:\n",
        "    print(i,  'odd')"
      ],
      "metadata": {
        "colab": {
          "base_uri": "https://localhost:8080/"
        },
        "id": "48zbSlusxRJS",
        "outputId": "1659cf93-9f9e-47cf-848f-e7b64e8ccd5f"
      },
      "execution_count": 168,
      "outputs": [
        {
          "output_type": "stream",
          "name": "stdout",
          "text": [
            "1 odd\n",
            "2 even\n",
            "3 odd\n",
            "4 even\n",
            "5 odd\n",
            "6 even\n",
            "7 odd\n",
            "8 even\n",
            "9 odd\n",
            "10 even\n",
            "11 odd\n",
            "12 even\n",
            "13 odd\n",
            "14 even\n",
            "15 odd\n"
          ]
        }
      ]
    },
    {
      "cell_type": "code",
      "source": [
        "'''CASE STUDY:\n",
        "In this case study, you have to create a program that calculates the final\n",
        "grade for a student based on their scores in different assessments. The\n",
        "program will take input from the user, perform calculations, and display the\n",
        "final grade along with additional information.\n",
        "Requirements:\n",
        "1. The program should prompt the user to enter the following information:\n",
        "• Student's name\n",
        "• Number of assessments (e.g., assignments, quizzes, exams)\n",
        "• Weight (percentage) of each assessment type\n",
        "2. For each assessment type, the program should ask the user to enter:\n",
        "• Number of assessments of that type\n",
        "• Score obtained for each assessment.\n",
        "3. The program should calculate the weighted average score for each\n",
        "assessment type.\n",
        "4. The program should then calculate the final grade using the weighted\n",
        "average scores and the weights provided by the user.\n",
        "5. The program should display the following information:\n",
        "• Student's name\n",
        "• Weighted average score for each assessment type\n",
        "• Final grade\n",
        "• Letter grade based on a grading scale (e.g., A, B, C, D, F)\n",
        "6. The program should have a function to determine the letter grade based\n",
        "on the final grade.'''"
      ],
      "metadata": {
        "colab": {
          "base_uri": "https://localhost:8080/",
          "height": 165
        },
        "id": "trfaLKd1xdU4",
        "outputId": "8b2745b7-6415-410c-863c-7b37756a28cf"
      },
      "execution_count": 169,
      "outputs": [
        {
          "output_type": "execute_result",
          "data": {
            "text/plain": [
              "\"CASE STUDY:\\nIn this case study, you have to create a program that calculates the final\\ngrade for a student based on their scores in different assessments. The\\nprogram will take input from the user, perform calculations, and display the\\nfinal grade along with additional information.\\nRequirements:\\n1. The program should prompt the user to enter the following information:\\n• Student's name\\n• Number of assessments (e.g., assignments, quizzes, exams)\\n• Weight (percentage) of each assessment type\\n2. For each assessment type, the program should ask the user to enter:\\n• Number of assessments of that type\\n• Score obtained for each assessment.\\n3. The program should calculate the weighted average score for each\\nassessment type.\\n4. The program should then calculate the final grade using the weighted\\naverage scores and the weights provided by the user.\\n5. The program should display the following information:\\n• Student's name\\n• Weighted average score for each assessment type\\n• Final grade\\n• Letter grade based on a grading scale (e.g., A, B, C, D, F)\\n6. The program should have a function to determine the letter grade based\\non the final grade.\""
            ],
            "application/vnd.google.colaboratory.intrinsic+json": {
              "type": "string"
            }
          },
          "metadata": {},
          "execution_count": 169
        }
      ]
    },
    {
      "cell_type": "code",
      "source": [
        "Arma = {\"name\": \"Mohammed Armaan\",\n",
        "\t\t\"assignment\": [80, 50, 40, 20],\n",
        "\t\t\"test\": [75, 75],\n",
        "\t\t\"lab\": [78.20, 77.20]\n",
        "\t\t}\n",
        "\n",
        "Joel = {\"name\": \"Joel Deepu\",\n",
        "\t\t\"assignment\": [82, 56, 44, 30],\n",
        "\t\t\"test\": [80, 80],\n",
        "\t\t\"lab\": [67.90, 78.72]\n",
        "\t\t}\n",
        "\n",
        "June = {\"name\": \"Junaid Naseer\",\n",
        "\t\t\"assignment\": [77, 82, 23, 39],\n",
        "\t\t\"test\": [78, 77],\n",
        "\t\t\"lab\": [80, 80]\n",
        "\t\t}\n",
        "\n",
        "Merl = {\"name\": \"Merlin shaji\",\n",
        "\t\t\"assignment\": [67, 55, 77, 21],\n",
        "\t\t\"test\": [40, 50],\n",
        "\t\t\"lab\": [69, 44.56]\n",
        "\t\t}\n",
        "\n",
        "Soup = {\"name\": \"Souparnika\",\n",
        "\t\"assignment\": [29, 89, 60, 56],\n",
        "\t\"test\": [65, 56],\n",
        "\t\"lab\": [50, 40.6]\n",
        "\t}\n",
        "\n",
        "\n",
        "def get_average(marks):\n",
        "\ttotal_sum = sum(marks)\n",
        "\ttotal_sum = float(total_sum)\n",
        "\treturn total_sum / len(marks)\n",
        "\n",
        "def calculate_total_average(students):\n",
        "\tassignment = get_average(students[\"assignment\"])\n",
        "\ttest = get_average(students[\"test\"])\n",
        "\tlab = get_average(students[\"lab\"])\n",
        "\n",
        "\treturn (0.1 * assignment +\n",
        "\t\t\t0.7 * test + 0.2 * lab)\n",
        "\n",
        "def assign_letter_grade(score):\n",
        "\tif score >= 90:\n",
        "\t\treturn \"A\"\n",
        "\telif score >= 80:\n",
        "\t\treturn \"B\"\n",
        "\telif score >= 70:\n",
        "\t\treturn \"C\"\n",
        "\telif score >= 60:\n",
        "\t\treturn \"D\"\n",
        "\telse:\n",
        "\t\treturn \"E\"\n",
        "\n",
        "\n",
        "\tfor student in student_list:\n",
        "\t\tstud_avg = calculate_total_average(student)\n",
        "\t\tresult_list.append(stud_avg)\n",
        "\t\treturn get_average(result_list)\n",
        "\n",
        "students = [Arma, Joel, June, Merl, Soup]\n",
        "\n",
        "for i in students:\n",
        "\tprint(i[\"name\"])\n",
        "\n",
        "\tprint(\"\\n Average marks of %s is : %s \" % (i[\"name\"],\n",
        "\t\t\t\t\t\t\tcalculate_total_average(i)))\n",
        "\n",
        "\tprint(\"Letter Grade of %s is : %s\" % (i[\"name\"],\n",
        "\t\t\tassign_letter_grade(calculate_total_average(i))))\n",
        "\n",
        "\tprint()"
      ],
      "metadata": {
        "colab": {
          "base_uri": "https://localhost:8080/"
        },
        "id": "wnCLCS21yCwN",
        "outputId": "93eb248f-a96e-487b-c3f0-ad15a67583b5"
      },
      "execution_count": 175,
      "outputs": [
        {
          "output_type": "stream",
          "name": "stdout",
          "text": [
            "Mohammed Armaan\n",
            "\n",
            " Average marks of Mohammed Armaan is : 72.79 \n",
            "Letter Grade of Mohammed Armaan is : C\n",
            "\n",
            "Joel Deepu\n",
            "\n",
            " Average marks of Joel Deepu is : 75.962 \n",
            "Letter Grade of Joel Deepu is : C\n",
            "\n",
            "Junaid Naseer\n",
            "\n",
            " Average marks of Junaid Naseer is : 75.775 \n",
            "Letter Grade of Junaid Naseer is : C\n",
            "\n",
            "Merlin shaji\n",
            "\n",
            " Average marks of Merlin shaji is : 48.356 \n",
            "Letter Grade of Merlin shaji is : E\n",
            "\n",
            "Souparnika\n",
            "\n",
            " Average marks of Souparnika is : 57.26 \n",
            "Letter Grade of Souparnika is : E\n",
            "\n"
          ]
        }
      ]
    },
    {
      "cell_type": "code",
      "source": [],
      "metadata": {
        "id": "6DxDDVHI28X0"
      },
      "execution_count": null,
      "outputs": []
    }
  ]
}